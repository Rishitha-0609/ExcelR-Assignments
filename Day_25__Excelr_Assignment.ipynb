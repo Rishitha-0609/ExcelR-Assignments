{
  "nbformat": 4,
  "nbformat_minor": 0,
  "metadata": {
    "colab": {
      "provenance": []
    },
    "kernelspec": {
      "name": "python3",
      "display_name": "Python 3"
    },
    "language_info": {
      "name": "python"
    }
  },
  "cells": [
    {
      "cell_type": "markdown",
      "source": [
        "Gaddameedi Rishitha\n",
        "\n",
        "2211cs020154"
      ],
      "metadata": {
        "id": "E_skrLud9JLr"
      }
    },
    {
      "cell_type": "markdown",
      "source": [
        "Coding Exercise: Rule-based Chatbots, Examples\n",
        "\n",
        "Write a Python program that uses a dictionary to define chatbot responses. The chatbot should reply to 'Hello', 'How are you?', and 'Bye' with predefined responses.\n"
      ],
      "metadata": {
        "id": "HJP0y88G9Ozn"
      }
    },
    {
      "cell_type": "code",
      "execution_count": null,
      "metadata": {
        "id": "4DBqdQm38_bO",
        "colab": {
          "base_uri": "https://localhost:8080/"
        },
        "outputId": "5e5993f5-69bf-4bb3-c4b0-f179e0311394"
      },
      "outputs": [
        {
          "output_type": "stream",
          "name": "stdout",
          "text": [
            "You: hello How are you\n",
            "Chatbot: I'm not sure how to respond to that.\n",
            "You: thank you for your response\n",
            "Chatbot: I'm not sure how to respond to that.\n"
          ]
        }
      ],
      "source": [
        "def chatbot():\n",
        "    responses = {\n",
        "        \"hello\": \"Hi! How can I help you?\",\n",
        "        \"how are you?\": \"I'm just a bot, but I'm doing great! How about you?\",\n",
        "        \"bye\": \"Goodbye! Have a nice day!\"\n",
        "    }\n",
        "\n",
        "    try:\n",
        "        while True:\n",
        "            user_input = input(\"You: \").strip().lower()\n",
        "            if user_input in responses:\n",
        "                print(\"Chatbot:\", responses[user_input])\n",
        "                if user_input == \"bye\":\n",
        "                    break\n",
        "            else:\n",
        "                print(\"Chatbot: I'm not sure how to respond to that.\")\n",
        "    except KeyboardInterrupt:\n",
        "        print(\"\\nChatbot: Goodbye! Have a nice day!\")\n",
        "\n",
        "chatbot()\n"
      ]
    },
    {
      "cell_type": "code",
      "source": [],
      "metadata": {
        "id": "Dz0kGRLI9kOr"
      },
      "execution_count": null,
      "outputs": []
    }
  ]
}