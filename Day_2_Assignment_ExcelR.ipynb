{
  "nbformat": 4,
  "nbformat_minor": 0,
  "metadata": {
    "colab": {
      "provenance": []
    },
    "kernelspec": {
      "name": "python3",
      "display_name": "Python 3"
    },
    "language_info": {
      "name": "python"
    }
  },
  "cells": [
    {
      "cell_type": "markdown",
      "source": [
        "Gaddameedi Rishitha\n",
        "\n",
        "2211cs020154"
      ],
      "metadata": {
        "id": "uSLyXGU6efAp"
      }
    },
    {
      "cell_type": "markdown",
      "source": [
        "Day-2\n",
        "\n",
        "Create a List, tuple and Dictionary with 5 elements in it and how to access few elements based on the index. Try with different examples"
      ],
      "metadata": {
        "id": "8Zz9sKw8ektp"
      }
    },
    {
      "cell_type": "code",
      "execution_count": 2,
      "metadata": {
        "colab": {
          "base_uri": "https://localhost:8080/"
        },
        "id": "iY750LRied2j",
        "outputId": "1391b9f4-9eb9-4c0b-8f0d-3d1c7726f7dd"
      },
      "outputs": [
        {
          "output_type": "stream",
          "name": "stdout",
          "text": [
            "Accessing List Elements:\n",
            "First Element: 10\n",
            "Third Element: 30\n",
            "Last Element: 50\n",
            "\n",
            "Accessing Tuple Elements:\n",
            "Second Element: banana\n",
            "Fourth Element: date\n",
            "\n",
            "Accessing Dictionary Elements:\n",
            "Value of Key 'a': 1\n",
            "Value of Key 'c': 3\n",
            "Value of Key 'e': 5\n",
            "\n",
            "Slicing List and Tuple:\n",
            "Slice of List (index 1 to 3): [20, 30, 40]\n",
            "Slice of Tuple (index 0 to 2): ('apple', 'banana', 'cherry')\n"
          ]
        }
      ],
      "source": [
        "my_list = [10, 20, 30, 40, 50]\n",
        "my_tuple = (\"apple\", \"banana\", \"cherry\", \"date\", \"elderberry\")\n",
        "my_dict = {\"a\": 1, \"b\": 2, \"c\": 3, \"d\": 4, \"e\": 5}\n",
        "\n",
        "print(\"Accessing List Elements:\")\n",
        "print(f\"First Element: {my_list[0]}\")\n",
        "print(f\"Third Element: {my_list[2]}\")\n",
        "print(f\"Last Element: {my_list[-1]}\\n\")\n",
        "\n",
        "print(\"Accessing Tuple Elements:\")\n",
        "print(f\"Second Element: {my_tuple[1]}\")\n",
        "print(f\"Fourth Element: {my_tuple[3]}\\n\")\n",
        "\n",
        "\n",
        "print(\"Accessing Dictionary Elements:\")\n",
        "print(f\"Value of Key 'a': {my_dict['a']}\")\n",
        "print(f\"Value of Key 'c': {my_dict['c']}\")\n",
        "print(f\"Value of Key 'e': {my_dict['e']}\\n\")\n",
        "\n",
        "\n",
        "print(\"Slicing List and Tuple:\")\n",
        "print(f\"Slice of List (index 1 to 3): {my_list[1:4]}\")\n",
        "print(f\"Slice of Tuple (index 0 to 2): {my_tuple[0:3]}\")\n"
      ]
    },
    {
      "cell_type": "code",
      "source": [],
      "metadata": {
        "id": "rnBY3UFBe0lt"
      },
      "execution_count": null,
      "outputs": []
    }
  ]
}