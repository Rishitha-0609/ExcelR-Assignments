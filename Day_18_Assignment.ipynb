{
  "nbformat": 4,
  "nbformat_minor": 0,
  "metadata": {
    "colab": {
      "provenance": []
    },
    "kernelspec": {
      "name": "python3",
      "display_name": "Python 3"
    },
    "language_info": {
      "name": "python"
    }
  },
  "cells": [
    {
      "cell_type": "markdown",
      "source": [
        "G.Rishitha 2211cs020154"
      ],
      "metadata": {
        "id": "tR2Ttg5P9-CK"
      }
    },
    {
      "cell_type": "markdown",
      "source": [
        "Day-18\n",
        "\n",
        "Exercises Covering All Concepts\n",
        "\n",
        "Write a Python program to load a text file, perform tokenization, calculate the term frequency (TF) of each token, and display the top 5 most frequent tokens."
      ],
      "metadata": {
        "id": "aG8KZbi6-KJo"
      }
    },
    {
      "cell_type": "code",
      "execution_count": 3,
      "metadata": {
        "colab": {
          "base_uri": "https://localhost:8080/"
        },
        "id": "U8JreTTW96Kg",
        "outputId": "67e30a9f-272b-4325-e59d-2c0e2a20ee0b"
      },
      "outputs": [
        {
          "output_type": "stream",
          "name": "stdout",
          "text": [
            "python: 4\n",
            "is: 4\n",
            "and: 3\n",
            "a: 1\n",
            "powerful: 1\n"
          ]
        }
      ],
      "source": [
        "from collections import Counter\n",
        "import re\n",
        "\n",
        "with open('textfile.txt', 'r') as file:\n",
        "    text = file.read()\n",
        "\n",
        "tokens = re.findall(r'\\b\\w+\\b', text.lower())\n",
        "\n",
        "token_counts = Counter(tokens)\n",
        "\n",
        "top_5_tokens = token_counts.most_common(5)\n",
        "\n",
        "for token, frequency in top_5_tokens:\n",
        "    print(f'{token}: {frequency}')\n"
      ]
    },
    {
      "cell_type": "code",
      "source": [],
      "metadata": {
        "id": "Z9iiD5qk-N4y"
      },
      "execution_count": null,
      "outputs": []
    }
  ]
}