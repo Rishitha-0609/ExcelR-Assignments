{
  "nbformat": 4,
  "nbformat_minor": 0,
  "metadata": {
    "colab": {
      "provenance": []
    },
    "kernelspec": {
      "name": "python3",
      "display_name": "Python 3"
    },
    "language_info": {
      "name": "python"
    }
  },
  "cells": [
    {
      "cell_type": "markdown",
      "source": [
        "Gaddameedi Rishitha\n",
        "\n",
        "2211cs020154"
      ],
      "metadata": {
        "id": "uSLyXGU6efAp"
      }
    },
    {
      "cell_type": "markdown",
      "source": [
        "Day-1\n",
        "\n",
        "\n",
        "1.Jupyter Notebook and Data Types Write a program in Jupyter Notebook to declare variables of different data types (integer, float, string, and boolean). Print each variable and its type."
      ],
      "metadata": {
        "id": "8Zz9sKw8ektp"
      }
    },
    {
      "cell_type": "code",
      "execution_count": 1,
      "metadata": {
        "colab": {
          "base_uri": "https://localhost:8080/"
        },
        "id": "iY750LRied2j",
        "outputId": "4cc6b9dc-a083-43de-bafb-986cfa3dd2ca"
      },
      "outputs": [
        {
          "output_type": "stream",
          "name": "stdout",
          "text": [
            "Integer Variable:\n",
            "Value: 10, Type: <class 'int'>\n",
            "\n",
            "Float Variable:\n",
            "Value: 3.14, Type: <class 'float'>\n",
            "\n",
            "String Variable:\n",
            "Value: Hello, World!, Type: <class 'str'>\n",
            "\n",
            "Boolean Variable:\n",
            "Value: True, Type: <class 'bool'>\n"
          ]
        }
      ],
      "source": [
        "integer_var = 10\n",
        "float_var = 3.14\n",
        "string_var = \"Hello, World!\"\n",
        "boolean_var = True\n",
        "\n",
        "print(\"Integer Variable:\")\n",
        "print(f\"Value: {integer_var}, Type: {type(integer_var)}\\n\")\n",
        "\n",
        "print(\"Float Variable:\")\n",
        "print(f\"Value: {float_var}, Type: {type(float_var)}\\n\")\n",
        "\n",
        "print(\"String Variable:\")\n",
        "print(f\"Value: {string_var}, Type: {type(string_var)}\\n\")\n",
        "\n",
        "print(\"Boolean Variable:\")\n",
        "print(f\"Value: {boolean_var}, Type: {type(boolean_var)}\")\n"
      ]
    },
    {
      "cell_type": "code",
      "source": [],
      "metadata": {
        "id": "rnBY3UFBe0lt"
      },
      "execution_count": null,
      "outputs": []
    }
  ]
}