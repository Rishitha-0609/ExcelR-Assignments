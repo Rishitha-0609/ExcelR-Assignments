{
  "nbformat": 4,
  "nbformat_minor": 0,
  "metadata": {
    "colab": {
      "provenance": []
    },
    "kernelspec": {
      "name": "python3",
      "display_name": "Python 3"
    },
    "language_info": {
      "name": "python"
    }
  },
  "cells": [
    {
      "cell_type": "markdown",
      "source": [
        "Gaddameedi Rishitha\n",
        "\n",
        "2211cs020154"
      ],
      "metadata": {
        "id": "txGrejVwPG_s"
      }
    },
    {
      "cell_type": "markdown",
      "source": [
        "Setting Up AWS Account\n",
        "\n",
        "Describe the steps required to set up an AWS account. Discuss key security best practices, including IAM roles, multi-factor authentication (MFA), and billing monitoring. Why is security important when creating an AWS account?\n"
      ],
      "metadata": {
        "id": "QqBqjm-mPNwU"
      }
    },
    {
      "cell_type": "code",
      "execution_count": 2,
      "metadata": {
        "colab": {
          "base_uri": "https://localhost:8080/"
        },
        "id": "WjjKGANkPCrE",
        "outputId": "f576fb27-3731-45c7-8d51-781e906bb2b5"
      },
      "outputs": [
        {
          "output_type": "stream",
          "name": "stdout",
          "text": [
            "MFA enabled successfully.\n",
            "IAM role Admin added.\n",
            "Billing alerts enabled.\n",
            "{'Account Name': 'MyAWSAccount', 'Email': 'user@example.com', 'IAM Roles': ['Admin'], 'MFA Enabled': True, 'Billing Alerts': True}\n"
          ]
        }
      ],
      "source": [
        "class AWSAccount:\n",
        "    def __init__(self, account_name, email):\n",
        "        self.account_name = account_name\n",
        "        self.email = email\n",
        "        self.iam_roles = []\n",
        "        self.mfa_enabled = False\n",
        "        self.billing_alerts = False\n",
        "\n",
        "    def enable_mfa(self):\n",
        "        self.mfa_enabled = True\n",
        "        return \"MFA enabled successfully.\"\n",
        "\n",
        "    def add_iam_role(self, role):\n",
        "        self.iam_roles.append(role)\n",
        "        return f\"IAM role {role} added.\"\n",
        "\n",
        "    def enable_billing_alerts(self):\n",
        "        self.billing_alerts = True\n",
        "        return \"Billing alerts enabled.\"\n",
        "\n",
        "    def get_account_details(self):\n",
        "        return {\n",
        "            \"Account Name\": self.account_name,\n",
        "            \"Email\": self.email,\n",
        "            \"IAM Roles\": self.iam_roles,\n",
        "            \"MFA Enabled\": self.mfa_enabled,\n",
        "            \"Billing Alerts\": self.billing_alerts\n",
        "        }\n",
        "\n",
        "aws_account = AWSAccount(\"MyAWSAccount\", \"user@example.com\")\n",
        "print(aws_account.enable_mfa())\n",
        "print(aws_account.add_iam_role(\"Admin\"))\n",
        "print(aws_account.enable_billing_alerts())\n",
        "print(aws_account.get_account_details())"
      ]
    },
    {
      "cell_type": "code",
      "source": [],
      "metadata": {
        "id": "D2IZ3__PPjsy"
      },
      "execution_count": null,
      "outputs": []
    }
  ]
}