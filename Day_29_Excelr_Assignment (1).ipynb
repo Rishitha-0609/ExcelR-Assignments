{
  "nbformat": 4,
  "nbformat_minor": 0,
  "metadata": {
    "colab": {
      "provenance": []
    },
    "kernelspec": {
      "name": "python3",
      "display_name": "Python 3"
    },
    "language_info": {
      "name": "python"
    }
  },
  "cells": [
    {
      "cell_type": "markdown",
      "source": [
        "Gaddameedi Rishitha\n",
        "\n",
        "2211cs020154"
      ],
      "metadata": {
        "id": "txGrejVwPG_s"
      }
    },
    {
      "cell_type": "markdown",
      "source": [
        "Basics of Cloud Computing\n",
        "\n",
        "Explain the fundamental concepts of cloud computing. Discuss its advantages, types of cloud deployment models, and the different cloud service models (IaaS, PaaS, SaaS). Provide real-world examples of cloud computing usage.\n"
      ],
      "metadata": {
        "id": "QqBqjm-mPNwU"
      }
    },
    {
      "cell_type": "code",
      "execution_count": 1,
      "metadata": {
        "colab": {
          "base_uri": "https://localhost:8080/"
        },
        "id": "WjjKGANkPCrE",
        "outputId": "0fd302a0-a193-45e5-d84b-56a9c5318f23"
      },
      "outputs": [
        {
          "output_type": "stream",
          "name": "stdout",
          "text": [
            "Azure Virtual Machines provided by Microsoft Azure\n",
            "Resources: Compute, Storage, Networking\n",
            "Google App Engine provided by Google Cloud\n",
            "Tools: Development Tools, Database Services\n",
            "Google Workspace provided by Google\n",
            "Applications: Gmail, Google Drive, Google Docs\n"
          ]
        }
      ],
      "source": [
        "class CloudComputing:\n",
        "    def __init__(self, name, provider):\n",
        "        self.name = name\n",
        "        self.provider = provider\n",
        "\n",
        "    def get_details(self):\n",
        "        return f\"{self.name} provided by {self.provider}\"\n",
        "\n",
        "class IaaS(CloudComputing):\n",
        "    def __init__(self, name, provider, resources):\n",
        "        super().__init__(name, provider)\n",
        "        self.resources = resources\n",
        "\n",
        "    def get_resources(self):\n",
        "        return f\"Resources: {', '.join(self.resources)}\"\n",
        "\n",
        "class PaaS(CloudComputing):\n",
        "    def __init__(self, name, provider, tools):\n",
        "        super().__init__(name, provider)\n",
        "        self.tools = tools\n",
        "\n",
        "    def get_tools(self):\n",
        "        return f\"Tools: {', '.join(self.tools)}\"\n",
        "\n",
        "class SaaS(CloudComputing):\n",
        "    def __init__(self, name, provider, applications):\n",
        "        super().__init__(name, provider)\n",
        "        self.applications = applications\n",
        "\n",
        "    def get_applications(self):\n",
        "        return f\"Applications: {', '.join(self.applications)}\"\n",
        "\n",
        "iaas = IaaS(\"Azure Virtual Machines\", \"Microsoft Azure\", [\"Compute\", \"Storage\", \"Networking\"])\n",
        "paas = PaaS(\"Google App Engine\", \"Google Cloud\", [\"Development Tools\", \"Database Services\"])\n",
        "saas = SaaS(\"Google Workspace\", \"Google\", [\"Gmail\", \"Google Drive\", \"Google Docs\"])\n",
        "\n",
        "print(iaas.get_details())\n",
        "print(iaas.get_resources())\n",
        "print(paas.get_details())\n",
        "print(paas.get_tools())\n",
        "print(saas.get_details())\n",
        "print(saas.get_applications())\n"
      ]
    },
    {
      "cell_type": "code",
      "source": [],
      "metadata": {
        "id": "D2IZ3__PPjsy"
      },
      "execution_count": null,
      "outputs": []
    }
  ]
}