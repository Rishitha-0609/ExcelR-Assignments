{
  "nbformat": 4,
  "nbformat_minor": 0,
  "metadata": {
    "colab": {
      "provenance": []
    },
    "kernelspec": {
      "name": "python3",
      "display_name": "Python 3"
    },
    "language_info": {
      "name": "python"
    }
  },
  "cells": [
    {
      "cell_type": "markdown",
      "source": [
        "Gaddameedi Rishitha\n",
        "\n",
        "2211cs020154"
      ],
      "metadata": {
        "id": "uSLyXGU6efAp"
      }
    },
    {
      "cell_type": "markdown",
      "source": [
        "Day-11\n",
        "\n",
        "Exercises on Web Scraping\n",
        "\n",
        "Write a Python script to fetch and print the title of a webpage using the 'requests' and 'BeautifulSoup' libraries. Test it with the URL: 'https://example.com'"
      ],
      "metadata": {
        "id": "8Zz9sKw8ektp"
      }
    },
    {
      "cell_type": "code",
      "execution_count": 11,
      "metadata": {
        "colab": {
          "base_uri": "https://localhost:8080/"
        },
        "id": "iY750LRied2j",
        "outputId": "9340a313-c0ee-4c3d-c0f7-55591f4082ce"
      },
      "outputs": [
        {
          "output_type": "stream",
          "name": "stdout",
          "text": [
            "Webpage Title: Wikipedia\n",
            "Google Connectivity Test - Status Code: 200\n"
          ]
        }
      ],
      "source": [
        "import requests\n",
        "from bs4 import BeautifulSoup\n",
        "\n",
        "def fetch_webpage_title(url):\n",
        "    \"\"\"\n",
        "    Fetches and prints the title of a webpage.\n",
        "\n",
        "    Parameters:\n",
        "    url (str): The URL of the webpage to fetch.\n",
        "\n",
        "    Returns:\n",
        "    str: The title of the webpage or an error message.\n",
        "    \"\"\"\n",
        "    try:\n",
        "\n",
        "        response = requests.get(url, timeout=10)\n",
        "\n",
        "        response.raise_for_status()\n",
        "\n",
        "        soup = BeautifulSoup(response.text, 'html.parser')\n",
        "\n",
        "        title = soup.title.string if soup.title else \"No title found\"\n",
        "        return title\n",
        "    except requests.exceptions.RequestException as e:\n",
        "        return f\"Error fetching the webpage: {e}\"\n",
        "\n",
        "url = 'https://www.wikipedia.org'\n",
        "webpage_title = fetch_webpage_title(url)\n",
        "print(\"Webpage Title:\", webpage_title)\n",
        "\n",
        "try:\n",
        "    test_response = requests.get('https://www.google.com', timeout=10)\n",
        "    print(\"Google Connectivity Test - Status Code:\", test_response.status_code)\n",
        "except requests.exceptions.RequestException as e:\n",
        "    print(\"Google Connectivity Test Failed:\", e)\n"
      ]
    },
    {
      "cell_type": "code",
      "source": [
        "\n"
      ],
      "metadata": {
        "id": "rnBY3UFBe0lt"
      },
      "execution_count": null,
      "outputs": []
    }
  ]
}