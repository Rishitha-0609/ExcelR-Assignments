{
  "nbformat": 4,
  "nbformat_minor": 0,
  "metadata": {
    "colab": {
      "provenance": []
    },
    "kernelspec": {
      "name": "python3",
      "display_name": "Python 3"
    },
    "language_info": {
      "name": "python"
    }
  },
  "cells": [
    {
      "cell_type": "markdown",
      "source": [
        "Gaddameedi Rishitha\n",
        "\n",
        "2211cs020154"
      ],
      "metadata": {
        "id": "uSLyXGU6efAp"
      }
    },
    {
      "cell_type": "markdown",
      "source": [
        "Day-5\n",
        "\n",
        "Write a Python program to calculate the frequency of each word in a given text. Print the words and their corresponding counts"
      ],
      "metadata": {
        "id": "8Zz9sKw8ektp"
      }
    },
    {
      "cell_type": "code",
      "execution_count": 5,
      "metadata": {
        "colab": {
          "base_uri": "https://localhost:8080/"
        },
        "id": "iY750LRied2j",
        "outputId": "2bbcd838-e4bc-46c4-c291-c1aeb035034e"
      },
      "outputs": [
        {
          "output_type": "stream",
          "name": "stdout",
          "text": [
            "Word Frequencies:\n",
            "this: 2\n",
            "is: 2\n",
            "a: 1\n",
            "sample: 1\n",
            "text: 3\n",
            "used: 1\n",
            "to: 1\n",
            "calculate: 1\n",
            "the: 3\n",
            "frequency: 1\n",
            "of: 1\n",
            "each: 1\n",
            "word: 1\n",
            "in: 1\n",
            "some: 1\n",
            "words: 1\n",
            "may: 1\n",
            "repeat: 1\n",
            "and: 1\n",
            "program: 1\n",
            "will: 1\n",
            "count: 1\n",
            "them: 1\n"
          ]
        }
      ],
      "source": [
        "from collections import Counter\n",
        "import re\n",
        "\n",
        "def calculate_word_frequency(text):\n",
        "\n",
        "    cleaned_text = re.sub(r'[^\\w\\s]', '', text.lower())\n",
        "\n",
        "    words = cleaned_text.split()\n",
        "\n",
        "\n",
        "    word_count = Counter(words)\n",
        "\n",
        "\n",
        "    print(\"Word Frequencies:\")\n",
        "    for word, count in word_count.items():\n",
        "        print(f\"{word}: {count}\")\n",
        "\n",
        "\n",
        "if __name__ == \"__main__\":\n",
        "    sample_text = \"\"\"\n",
        "    This is a sample text. This text is used to calculate the frequency of each word in the text.\n",
        "    Some words may repeat, and the program will count them.\n",
        "    \"\"\"\n",
        "    calculate_word_frequency(sample_text)\n"
      ]
    },
    {
      "cell_type": "code",
      "source": [
        "\n"
      ],
      "metadata": {
        "id": "rnBY3UFBe0lt"
      },
      "execution_count": null,
      "outputs": []
    }
  ]
}