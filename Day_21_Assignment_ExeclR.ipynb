{
  "nbformat": 4,
  "nbformat_minor": 0,
  "metadata": {
    "colab": {
      "provenance": []
    },
    "kernelspec": {
      "name": "python3",
      "display_name": "Python 3"
    },
    "language_info": {
      "name": "python"
    }
  },
  "cells": [
    {
      "cell_type": "markdown",
      "source": [
        "Gaddameedi Rishitha\n",
        "\n",
        "2211cs020154"
      ],
      "metadata": {
        "id": "RiweY0a_5puY"
      }
    },
    {
      "cell_type": "markdown",
      "source": [
        "Text Classification Models\n",
        "Write a Python program to classify text using a simple Decision Tree model from `sklearn. tree. DecisionTreeClassifier`.\n",
        "Convert text data into numerical format using `TfidfVectorizer`.\n",
        "Example input:\n",
        "    [\"Spam messages are annoying\", \"I won a lottery\", \"This is a normal message\"]"
      ],
      "metadata": {
        "id": "0ar4wtmE5Nyu"
      }
    },
    {
      "cell_type": "code",
      "execution_count": 3,
      "metadata": {
        "colab": {
          "base_uri": "https://localhost:8080/"
        },
        "id": "F5Y-3g_w4XnZ",
        "outputId": "fff9288a-4cf4-471a-ef9a-bb470c5f7321"
      },
      "outputs": [
        {
          "output_type": "stream",
          "name": "stdout",
          "text": [
            "[1]\n"
          ]
        }
      ],
      "source": [
        "from sklearn.feature_extraction.text import TfidfVectorizer\n",
        "from sklearn.tree import DecisionTreeClassifier\n",
        "\n",
        "texts = [\"Spam messages are annoying\", \"I won a lottery\", \"This is a normal message\"]\n",
        "labels = [1, 1, 0]\n",
        "\n",
        "vectorizer = TfidfVectorizer()\n",
        "X = vectorizer.fit_transform(texts)\n",
        "\n",
        "model = DecisionTreeClassifier()\n",
        "model.fit(X, labels)\n",
        "\n",
        "new_text = [\"You have won a prize\"]\n",
        "X_new = vectorizer.transform(new_text)\n",
        "prediction = model.predict(X_new)\n",
        "\n",
        "print(prediction)\n"
      ]
    },
    {
      "cell_type": "code",
      "source": [],
      "metadata": {
        "id": "Q4DFiZX65MlU"
      },
      "execution_count": null,
      "outputs": []
    }
  ]
}