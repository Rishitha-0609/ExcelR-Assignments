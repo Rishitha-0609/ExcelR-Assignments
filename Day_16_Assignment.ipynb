{
  "nbformat": 4,
  "nbformat_minor": 0,
  "metadata": {
    "colab": {
      "provenance": []
    },
    "kernelspec": {
      "name": "python3",
      "display_name": "Python 3"
    },
    "language_info": {
      "name": "python"
    }
  },
  "cells": [
    {
      "cell_type": "markdown",
      "source": [
        "G.Rishitha 2211cs020154"
      ],
      "metadata": {
        "id": "wZpc_tbVycvC"
      }
    },
    {
      "cell_type": "markdown",
      "source": [
        "Day-16\n",
        "\n",
        "Named Entity Recognition (NER)\n",
        "\n",
        "Write a Python program to perform Named Entity Recognition (NER) on a given text using SpaCy. Print the entities and their types.\n",
        "\n",
        "\n"
      ],
      "metadata": {
        "id": "CGBmIF35ydei"
      }
    },
    {
      "cell_type": "code",
      "execution_count": 5,
      "metadata": {
        "colab": {
          "base_uri": "https://localhost:8080/"
        },
        "id": "D6YmchbFyJaP",
        "outputId": "fec2dce6-1074-4195-bbcd-8be28dabf6bb"
      },
      "outputs": [
        {
          "output_type": "stream",
          "name": "stdout",
          "text": [
            "[('Apple', 'ORG'), ('Steve Jobs', 'PERSON'), ('Cupertino', 'GPE'), ('California', 'GPE')]\n"
          ]
        }
      ],
      "source": [
        "import spacy\n",
        "\n",
        "def perform_ner(text):\n",
        "    nlp = spacy.load(\"en_core_web_sm\")\n",
        "    doc = nlp(text)\n",
        "    return [(ent.text, ent.label_) for ent in doc.ents]\n",
        "\n",
        "text = \"Apple was founded by Steve Jobs in Cupertino, California.\"\n",
        "entities = perform_ner(text)\n",
        "\n",
        "print(entities)"
      ]
    },
    {
      "cell_type": "code",
      "source": [],
      "metadata": {
        "id": "nx9HXWKC1p27"
      },
      "execution_count": null,
      "outputs": []
    }
  ]
}