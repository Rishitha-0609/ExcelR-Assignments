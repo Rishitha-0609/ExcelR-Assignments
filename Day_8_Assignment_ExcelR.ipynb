{
  "nbformat": 4,
  "nbformat_minor": 0,
  "metadata": {
    "colab": {
      "provenance": []
    },
    "kernelspec": {
      "name": "python3",
      "display_name": "Python 3"
    },
    "language_info": {
      "name": "python"
    }
  },
  "cells": [
    {
      "cell_type": "markdown",
      "source": [
        "Gaddameedi Rishitha\n",
        "\n",
        "2211cs020154"
      ],
      "metadata": {
        "id": "uSLyXGU6efAp"
      }
    },
    {
      "cell_type": "markdown",
      "source": [
        "Day-8\n",
        "\n",
        "Tokenizes a sample paragraph into words and sentences."
      ],
      "metadata": {
        "id": "8Zz9sKw8ektp"
      }
    },
    {
      "cell_type": "code",
      "execution_count": 8,
      "metadata": {
        "colab": {
          "base_uri": "https://localhost:8080/"
        },
        "id": "iY750LRied2j",
        "outputId": "0080744c-14eb-43c4-f4fa-2063d55736c3"
      },
      "outputs": [
        {
          "output_type": "stream",
          "name": "stderr",
          "text": [
            "[nltk_data] Downloading package punkt to /root/nltk_data...\n",
            "[nltk_data]   Unzipping tokenizers/punkt.zip.\n",
            "[nltk_data] Downloading package punkt_tab to /root/nltk_data...\n",
            "[nltk_data]   Unzipping tokenizers/punkt_tab.zip.\n",
            "[nltk_data] Downloading package punkt to /root/nltk_data...\n"
          ]
        },
        {
          "output_type": "stream",
          "name": "stdout",
          "text": [
            "/root/nltk_data/tokenizers/punkt\n"
          ]
        },
        {
          "output_type": "stream",
          "name": "stderr",
          "text": [
            "[nltk_data]   Unzipping tokenizers/punkt.zip.\n"
          ]
        },
        {
          "output_type": "stream",
          "name": "stdout",
          "text": [
            "Sentences:\n",
            "['\\nPython is an easy-to-learn, powerful programming language.', 'It has efficient high-level data structures and a simple but effective approach to object-oriented programming.', \"Python's simple structure and readability make it an excellent choice for beginners.\"]\n",
            "\n",
            "Words:\n",
            "['Python', 'is', 'an', 'easy-to-learn', ',', 'powerful', 'programming', 'language', '.', 'It', 'has', 'efficient', 'high-level', 'data', 'structures', 'and', 'a', 'simple', 'but', 'effective', 'approach', 'to', 'object-oriented', 'programming', '.', 'Python', \"'s\", 'simple', 'structure', 'and', 'readability', 'make', 'it', 'an', 'excellent', 'choice', 'for', 'beginners', '.']\n"
          ]
        }
      ],
      "source": [
        "import nltk\n",
        "nltk.data.path.append('/root/nltk_data')\n",
        "\n",
        "nltk.download('punkt', force=True)\n",
        "import nltk\n",
        "nltk.download('punkt_tab')\n",
        "import nltk\n",
        "\n",
        "print(nltk.data.find('tokenizers/punkt'))\n",
        "import nltk\n",
        "\n",
        "nltk.download('punkt', force=True)\n",
        "\n",
        "paragraph = \"\"\"\n",
        "Python is an easy-to-learn, powerful programming language.\n",
        "It has efficient high-level data structures and a simple but effective approach to object-oriented programming.\n",
        "Python's simple structure and readability make it an excellent choice for beginners.\n",
        "\"\"\"\n",
        "\n",
        "sentences = nltk.sent_tokenize(paragraph)\n",
        "\n",
        "words = nltk.word_tokenize(paragraph)\n",
        "\n",
        "print(\"Sentences:\")\n",
        "print(sentences)\n",
        "\n",
        "print(\"\\nWords:\")\n",
        "print(words)\n",
        "\n"
      ]
    },
    {
      "cell_type": "code",
      "source": [
        "\n"
      ],
      "metadata": {
        "id": "rnBY3UFBe0lt"
      },
      "execution_count": null,
      "outputs": []
    }
  ]
}