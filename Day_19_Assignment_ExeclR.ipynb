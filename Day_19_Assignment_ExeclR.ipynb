{
  "nbformat": 4,
  "nbformat_minor": 0,
  "metadata": {
    "colab": {
      "provenance": []
    },
    "kernelspec": {
      "name": "python3",
      "display_name": "Python 3"
    },
    "language_info": {
      "name": "python"
    }
  },
  "cells": [
    {
      "cell_type": "markdown",
      "source": [
        "Gaddameedi Rishitha\n",
        "\n",
        "2211cs020154"
      ],
      "metadata": {
        "id": "RiweY0a_5puY"
      }
    },
    {
      "cell_type": "markdown",
      "source": [
        "Bag of Words TF-IDF Word Embeddings\n",
        "\n",
        "\n",
        "Write a Python program to convert a given text into a Bag of Words (BoW) representation using `CountVectorizer` from `sklearn.feature_extraction.text`.\n",
        "Also, compute the TF-IDF representation using `TfidfVectorizer`.\n",
        "Example input:\n",
        "    [\"I love machine learning\", \"Machine learning is fun\", \"Deep learning is amazing\"]"
      ],
      "metadata": {
        "id": "0ar4wtmE5Nyu"
      }
    },
    {
      "cell_type": "code",
      "execution_count": 1,
      "metadata": {
        "colab": {
          "base_uri": "https://localhost:8080/"
        },
        "id": "F5Y-3g_w4XnZ",
        "outputId": "76790cc4-b8d9-434a-b96b-f51daf856d2d"
      },
      "outputs": [
        {
          "output_type": "stream",
          "name": "stdout",
          "text": [
            "Bag of Words (BoW) Output:\n",
            "[[0 0 0 0 1 1 1]\n",
            " [0 0 1 1 1 0 1]\n",
            " [1 1 0 1 1 0 0]]\n",
            "\n",
            "Feature Names:\n",
            "['amazing' 'deep' 'fun' 'is' 'learning' 'love' 'machine']\n",
            "\n",
            "TF-IDF Output:\n",
            "[[0.         0.         0.         0.         0.42544054 0.72033345\n",
            "  0.54783215]\n",
            " [0.         0.         0.63174505 0.4804584  0.37311881 0.\n",
            "  0.4804584 ]\n",
            " [0.5844829  0.5844829  0.         0.44451431 0.34520502 0.\n",
            "  0.        ]]\n"
          ]
        }
      ],
      "source": [
        "from sklearn.feature_extraction.text import CountVectorizer, TfidfVectorizer\n",
        "\n",
        "texts = [\"I love machine learning\", \"Machine learning is fun\", \"Deep learning is amazing\"]\n",
        "\n",
        "bow_vectorizer = CountVectorizer()\n",
        "bow_matrix = bow_vectorizer.fit_transform(texts)\n",
        "bow_output = bow_matrix.toarray()\n",
        "\n",
        "tfidf_vectorizer = TfidfVectorizer()\n",
        "tfidf_matrix = tfidf_vectorizer.fit_transform(texts)\n",
        "tfidf_output = tfidf_matrix.toarray()\n",
        "\n",
        "print(\"Bag of Words (BoW) Output:\")\n",
        "print(bow_output)\n",
        "print(\"\\nFeature Names:\")\n",
        "print(bow_vectorizer.get_feature_names_out())\n",
        "print(\"\\nTF-IDF Output:\")\n",
        "print(tfidf_output)\n"
      ]
    },
    {
      "cell_type": "code",
      "source": [],
      "metadata": {
        "id": "Q4DFiZX65MlU"
      },
      "execution_count": null,
      "outputs": []
    }
  ]
}