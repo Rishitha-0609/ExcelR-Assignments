{
  "nbformat": 4,
  "nbformat_minor": 0,
  "metadata": {
    "colab": {
      "provenance": []
    },
    "kernelspec": {
      "name": "python3",
      "display_name": "Python 3"
    },
    "language_info": {
      "name": "python"
    }
  },
  "cells": [
    {
      "cell_type": "markdown",
      "source": [
        "Gaddameedi Rishitha\n",
        "\n",
        "2211cs020154"
      ],
      "metadata": {
        "id": "uSLyXGU6efAp"
      }
    },
    {
      "cell_type": "markdown",
      "source": [
        "Day-13\n",
        "\n",
        "Part of Speech Tagging using SpaCy\n",
        "\n",
        "Write a Python script to perform part-of-speech tagging on the sentence: 'NLP is amazing and fun to learn.' using SpaCy."
      ],
      "metadata": {
        "id": "8Zz9sKw8ektp"
      }
    },
    {
      "cell_type": "code",
      "execution_count": 13,
      "metadata": {
        "colab": {
          "base_uri": "https://localhost:8080/"
        },
        "id": "iY750LRied2j",
        "outputId": "7f76de05-2374-47ac-a94c-80cd840e703f"
      },
      "outputs": [
        {
          "output_type": "stream",
          "name": "stdout",
          "text": [
            "Token          POS Tag        Description\n",
            "----------------------------------------\n",
            "NLP            PROPN          proper noun\n",
            "is             AUX            auxiliary\n",
            "amazing        ADJ            adjective\n",
            "and            CCONJ          coordinating conjunction\n",
            "fun            ADJ            adjective\n",
            "to             PART           particle\n",
            "learn          VERB           verb\n",
            ".              PUNCT          punctuation\n"
          ]
        }
      ],
      "source": [
        "import spacy\n",
        "\n",
        "def pos_tagging(sentence):\n",
        "    \"\"\"\n",
        "    Performs part-of-speech tagging on a given sentence using SpaCy.\n",
        "\n",
        "    Parameters:\n",
        "    sentence (str): The input sentence to tag.\n",
        "\n",
        "    Returns:\n",
        "    None\n",
        "    \"\"\"\n",
        "\n",
        "    nlp = spacy.load('en_core_web_sm')\n",
        "\n",
        "    doc = nlp(sentence)\n",
        "\n",
        "\n",
        "    print(f\"{'Token':<15}{'POS Tag':<15}{'Description'}\")\n",
        "    print(\"-\" * 40)\n",
        "    for token in doc:\n",
        "        print(f\"{token.text:<15}{token.pos_:<15}{spacy.explain(token.pos_)}\")\n",
        "\n",
        "sentence = 'NLP is amazing and fun to learn.'\n",
        "\n",
        "pos_tagging(sentence)\n"
      ]
    },
    {
      "cell_type": "code",
      "source": [
        "\n"
      ],
      "metadata": {
        "id": "rnBY3UFBe0lt"
      },
      "execution_count": null,
      "outputs": []
    }
  ]
}