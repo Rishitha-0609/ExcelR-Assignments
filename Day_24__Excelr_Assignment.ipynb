{
  "nbformat": 4,
  "nbformat_minor": 0,
  "metadata": {
    "colab": {
      "provenance": []
    },
    "kernelspec": {
      "name": "python3",
      "display_name": "Python 3"
    },
    "language_info": {
      "name": "python"
    }
  },
  "cells": [
    {
      "cell_type": "markdown",
      "source": [
        "Gaddameedi Rishitha\n",
        "\n",
        "2211cs020154"
      ],
      "metadata": {
        "id": "E_skrLud9JLr"
      }
    },
    {
      "cell_type": "markdown",
      "source": [
        "Coding Exercise: NLP Applications - Introduction to Chatbots\n",
        "\n",
        "Write a Python program to create a simple chatbot that responds to user input. Use an if-else statement to reply to 'Hello' with 'Hi! How can I help you?' and to 'Bye' with 'Goodbye! Have a nice day!'.\n"
      ],
      "metadata": {
        "id": "HJP0y88G9Ozn"
      }
    },
    {
      "cell_type": "code",
      "execution_count": null,
      "metadata": {
        "id": "4DBqdQm38_bO",
        "colab": {
          "base_uri": "https://localhost:8080/"
        },
        "outputId": "735cf0c4-2ebe-4e06-a0b9-20100c2592e0"
      },
      "outputs": [
        {
          "output_type": "stream",
          "name": "stdout",
          "text": [
            "You: ghi\n",
            "Chatbot: I'm not sure how to respond to that.\n"
          ]
        }
      ],
      "source": [
        "def chatbot():\n",
        "    while True:\n",
        "        user_input = input(\"You: \")\n",
        "        if user_input.lower() == \"hello\":\n",
        "            print(\"Chatbot: Hi! How can I help you?\")\n",
        "        elif user_input.lower() == \"bye\":\n",
        "            print(\"Chatbot: Goodbye! Have a nice day!\")\n",
        "            break\n",
        "        else:\n",
        "            print(\"Chatbot: I'm not sure how to respond to that.\")\n",
        "\n",
        "chatbot()\n"
      ]
    },
    {
      "cell_type": "code",
      "source": [],
      "metadata": {
        "id": "Dz0kGRLI9kOr"
      },
      "execution_count": null,
      "outputs": []
    }
  ]
}