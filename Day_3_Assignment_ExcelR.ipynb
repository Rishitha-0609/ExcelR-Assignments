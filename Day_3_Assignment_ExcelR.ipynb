{
  "nbformat": 4,
  "nbformat_minor": 0,
  "metadata": {
    "colab": {
      "provenance": []
    },
    "kernelspec": {
      "name": "python3",
      "display_name": "Python 3"
    },
    "language_info": {
      "name": "python"
    }
  },
  "cells": [
    {
      "cell_type": "markdown",
      "source": [
        "Gaddameedi Rishitha\n",
        "\n",
        "2211cs020154"
      ],
      "metadata": {
        "id": "uSLyXGU6efAp"
      }
    },
    {
      "cell_type": "markdown",
      "source": [
        "Day-3\n",
        "\n",
        "Write a Python program that takes a student's marks in three subjects as input.\n",
        "\n",
        "If the average is greater than or equal to 90, print \"Grade: A\".\n",
        "\n",
        "If the average is between 80 and 89, print \"Grade: B\".\n",
        "\n",
        "If the average is between 70 and 79, print \"Grade: C\".\n",
        "\n",
        "Otherwise, print \"Grade: Fail\""
      ],
      "metadata": {
        "id": "8Zz9sKw8ektp"
      }
    },
    {
      "cell_type": "code",
      "execution_count": 3,
      "metadata": {
        "colab": {
          "base_uri": "https://localhost:8080/"
        },
        "id": "iY750LRied2j",
        "outputId": "19427f9d-9328-4ef2-b462-9d61c984b655"
      },
      "outputs": [
        {
          "output_type": "stream",
          "name": "stdout",
          "text": [
            "Enter marks for subject 1: 85\n",
            "Enter marks for subject 2: 0\n",
            "Enter marks for subject 3: 90\n",
            "Average: 58.33\n",
            "Grade: Fail\n"
          ]
        }
      ],
      "source": [
        "mark1 = int(input(\"Enter marks for subject 1: \"))\n",
        "mark2 = int(input(\"Enter marks for subject 2: \"))\n",
        "mark3 = int(input(\"Enter marks for subject 3: \"))\n",
        "average = (mark1 + mark2 + mark3) / 3\n",
        "if average >= 90:\n",
        "    grade = \"Grade: A\"\n",
        "elif 80 <= average < 90:\n",
        "    grade = \"Grade: B\"\n",
        "elif 70 <= average < 80:\n",
        "    grade = \"Grade: C\"\n",
        "else:\n",
        "    grade = \"Grade: Fail\"\n",
        "print(f\"Average: {average:.2f}\")\n",
        "print(grade)\n",
        "\n"
      ]
    },
    {
      "cell_type": "code",
      "source": [
        "980\n"
      ],
      "metadata": {
        "id": "rnBY3UFBe0lt"
      },
      "execution_count": null,
      "outputs": []
    }
  ]
}