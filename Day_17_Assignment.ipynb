{
  "nbformat": 4,
  "nbformat_minor": 0,
  "metadata": {
    "colab": {
      "provenance": []
    },
    "kernelspec": {
      "name": "python3",
      "display_name": "Python 3"
    },
    "language_info": {
      "name": "python"
    }
  },
  "cells": [
    {
      "cell_type": "markdown",
      "source": [
        "G.Rishitha 2211cs020154"
      ],
      "metadata": {
        "id": "tR2Ttg5P9-CK"
      }
    },
    {
      "cell_type": "markdown",
      "source": [
        "Day-17\n",
        "\n",
        "Sentiment Analysis\n",
        "\n",
        "Write a Python program to perform sentiment analysis on a given text using the TextBlob library. Display whether the sentiment is positive, negative, or"
      ],
      "metadata": {
        "id": "aG8KZbi6-KJo"
      }
    },
    {
      "cell_type": "code",
      "execution_count": 1,
      "metadata": {
        "colab": {
          "base_uri": "https://localhost:8080/"
        },
        "id": "U8JreTTW96Kg",
        "outputId": "95e1981d-4434-4aa3-cdba-c2056ee7c66e"
      },
      "outputs": [
        {
          "output_type": "stream",
          "name": "stdout",
          "text": [
            "Positive\n"
          ]
        }
      ],
      "source": [
        "from textblob import TextBlob\n",
        "\n",
        "text = \"I love programming. It's so much fun!\"\n",
        "\n",
        "blob = TextBlob(text)\n",
        "sentiment = blob.sentiment.polarity\n",
        "\n",
        "if sentiment > 0:\n",
        "    print(\"Positive\")\n",
        "elif sentiment < 0:\n",
        "    print(\"Negative\")\n",
        "else:\n",
        "    print(\"Neutral\")\n"
      ]
    },
    {
      "cell_type": "code",
      "source": [],
      "metadata": {
        "id": "Z9iiD5qk-N4y"
      },
      "execution_count": null,
      "outputs": []
    }
  ]
}