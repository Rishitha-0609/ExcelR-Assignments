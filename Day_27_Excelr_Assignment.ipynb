{
  "nbformat": 4,
  "nbformat_minor": 0,
  "metadata": {
    "colab": {
      "provenance": []
    },
    "kernelspec": {
      "name": "python3",
      "display_name": "Python 3"
    },
    "language_info": {
      "name": "python"
    }
  },
  "cells": [
    {
      "cell_type": "markdown",
      "source": [
        "Gaddameedi Rishitha\n",
        "\n",
        "2211cs020154"
      ],
      "metadata": {
        "id": "lbQiwlAgDSi6"
      }
    },
    {
      "cell_type": "markdown",
      "source": [
        "Coding Exercise: Intro to Self-Attention Mechanism\n",
        "\n",
        "Write a Python program to create a simple attention score calculation. Use NumPy to generate random values for query, key, and value vectors, then compute the dot product.\n"
      ],
      "metadata": {
        "id": "KCH0q51jDWT8"
      }
    },
    {
      "cell_type": "code",
      "execution_count": 2,
      "metadata": {
        "colab": {
          "base_uri": "https://localhost:8080/"
        },
        "id": "e3YLziZxDE28",
        "outputId": "41c31e00-fd1d-4fa4-a1a8-895406c23b6f"
      },
      "outputs": [
        {
          "output_type": "stream",
          "name": "stdout",
          "text": [
            "Attention Scores:\n",
            " [[0.94593827 1.05688368 1.08825618 0.9902684 ]]\n",
            "Attention Weights:\n",
            " [[0.23171725 0.25890554 0.26715681 0.24222039]]\n",
            "Output:\n",
            " [[0.32905617 0.52179061 0.55163101 0.60279813]]\n"
          ]
        }
      ],
      "source": [
        "import numpy as np\n",
        "\n",
        "query = np.random.rand(1, 4)\n",
        "key = np.random.rand(4, 4)\n",
        "value = np.random.rand(4, 4)\n",
        "\n",
        "attention_scores = np.dot(query, key.T)\n",
        "attention_weights = np.exp(attention_scores) / np.sum(np.exp(attention_scores), axis=1, keepdims=True)\n",
        "output = np.dot(attention_weights, value)\n",
        "\n",
        "print(\"Attention Scores:\\n\", attention_scores)\n",
        "print(\"Attention Weights:\\n\", attention_weights)\n",
        "print(\"Output:\\n\", output)\n"
      ]
    },
    {
      "cell_type": "code",
      "source": [],
      "metadata": {
        "id": "EvwSFBS_Dayr"
      },
      "execution_count": null,
      "outputs": []
    }
  ]
}