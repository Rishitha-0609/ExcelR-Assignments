{
  "nbformat": 4,
  "nbformat_minor": 0,
  "metadata": {
    "colab": {
      "provenance": []
    },
    "kernelspec": {
      "name": "python3",
      "display_name": "Python 3"
    },
    "language_info": {
      "name": "python"
    }
  },
  "cells": [
    {
      "cell_type": "markdown",
      "source": [
        "Gaddameedi Rishitha\n",
        "\n",
        "2211cs020154"
      ],
      "metadata": {
        "id": "RiweY0a_5puY"
      }
    },
    {
      "cell_type": "markdown",
      "source": [
        "Naive Bayes Models\n",
        "\n",
        "\n",
        "Write a Python program to perform text classification using a Naïve Bayes classifier (`MultinomialNB`) from `sklearn.naive_bayes`.\n",
        "Train the model using sample text data and predict the category of a given new text.\n",
        "Example input:\n",
        "    [\"I love programming\", \"Python is great\", \"Machine learning is amazing\"]"
      ],
      "metadata": {
        "id": "0ar4wtmE5Nyu"
      }
    },
    {
      "cell_type": "code",
      "execution_count": 2,
      "metadata": {
        "colab": {
          "base_uri": "https://localhost:8080/"
        },
        "id": "F5Y-3g_w4XnZ",
        "outputId": "a8f7c3fa-6e56-412e-da75-7cc868060267"
      },
      "outputs": [
        {
          "output_type": "stream",
          "name": "stdout",
          "text": [
            "[0]\n"
          ]
        }
      ],
      "source": [
        "from sklearn.feature_extraction.text import CountVectorizer\n",
        "from sklearn.naive_bayes import MultinomialNB\n",
        "\n",
        "texts = [\"I love programming\", \"Python is great\", \"Machine learning is amazing\"]\n",
        "labels = [0, 1, 1]\n",
        "\n",
        "vectorizer = CountVectorizer()\n",
        "X = vectorizer.fit_transform(texts)\n",
        "\n",
        "model = MultinomialNB()\n",
        "model.fit(X, labels)\n",
        "\n",
        "new_text = [\"I enjoy Python programming\"]\n",
        "X_new = vectorizer.transform(new_text)\n",
        "prediction = model.predict(X_new)\n",
        "\n",
        "print(prediction)\n"
      ]
    },
    {
      "cell_type": "code",
      "source": [],
      "metadata": {
        "id": "Q4DFiZX65MlU"
      },
      "execution_count": null,
      "outputs": []
    }
  ]
}