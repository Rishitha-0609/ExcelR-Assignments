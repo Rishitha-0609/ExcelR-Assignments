{
  "nbformat": 4,
  "nbformat_minor": 0,
  "metadata": {
    "colab": {
      "provenance": []
    },
    "kernelspec": {
      "name": "python3",
      "display_name": "Python 3"
    },
    "language_info": {
      "name": "python"
    }
  },
  "cells": [
    {
      "cell_type": "markdown",
      "source": [
        "G.Rishitha 2211cs020154"
      ],
      "metadata": {
        "id": "wZpc_tbVycvC"
      }
    },
    {
      "cell_type": "markdown",
      "source": [
        "Day-15\n",
        "\n",
        "Text Similarity Techniques\n",
        "\n",
        "Write a Python program to calculate the cosine similarity between two strings using the Scikit-learn library. You can use the 'TfidfVectorizer' class to transform the text into vectors.\n",
        "\n"
      ],
      "metadata": {
        "id": "CGBmIF35ydei"
      }
    },
    {
      "cell_type": "code",
      "execution_count": 4,
      "metadata": {
        "colab": {
          "base_uri": "https://localhost:8080/"
        },
        "id": "D6YmchbFyJaP",
        "outputId": "f2ea5319-7cbe-4d28-eff6-422019fb604a"
      },
      "outputs": [
        {
          "output_type": "stream",
          "name": "stdout",
          "text": [
            "1.0\n"
          ]
        }
      ],
      "source": [
        "from sklearn.feature_extraction.text import TfidfVectorizer\n",
        "from sklearn.metrics.pairwise import cosine_similarity\n",
        "\n",
        "def calculate_cosine_similarity(text1, text2):\n",
        "    vectorizer = TfidfVectorizer()\n",
        "    tfidf_matrix = vectorizer.fit_transform([text1, text2])\n",
        "    return cosine_similarity(tfidf_matrix[0], tfidf_matrix[1])[0][0]\n",
        "\n",
        "text1 = \"This is a sample sentence.\"\n",
        "text2 = \"This sentence is a sample.\"\n",
        "\n",
        "similarity_score = calculate_cosine_similarity(text1, text2)\n",
        "print(similarity_score)\n",
        "\n"
      ]
    }
  ]
}