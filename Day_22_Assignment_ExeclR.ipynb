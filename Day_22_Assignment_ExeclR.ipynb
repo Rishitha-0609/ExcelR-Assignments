{
  "nbformat": 4,
  "nbformat_minor": 0,
  "metadata": {
    "colab": {
      "provenance": []
    },
    "kernelspec": {
      "name": "python3",
      "display_name": "Python 3"
    },
    "language_info": {
      "name": "python"
    }
  },
  "cells": [
    {
      "cell_type": "markdown",
      "source": [
        "Gaddameedi Rishitha\n",
        "\n",
        "2211cs020154"
      ],
      "metadata": {
        "id": "RiweY0a_5puY"
      }
    },
    {
      "cell_type": "markdown",
      "source": [
        " Ensemble Models Text Classification\n",
        "Write a Python program to classify text using an ensemble model (`RandomForestClassifier`) from `sklearn.ensemble`.\n",
        "Use `TfidfVectorizer` to convert text into numerical format.\n",
        "Example input:\n",
        "    [\"Buy now and win a prize\", \"Normal email content\", \"Congratulations, you won!\"]"
      ],
      "metadata": {
        "id": "0ar4wtmE5Nyu"
      }
    },
    {
      "cell_type": "code",
      "execution_count": 4,
      "metadata": {
        "colab": {
          "base_uri": "https://localhost:8080/"
        },
        "id": "F5Y-3g_w4XnZ",
        "outputId": "775f8940-fcd5-4b98-a003-77e83e1e0a21"
      },
      "outputs": [
        {
          "output_type": "stream",
          "name": "stdout",
          "text": [
            "Accuracy: 0.0\n"
          ]
        }
      ],
      "source": [
        "from sklearn.ensemble import RandomForestClassifier\n",
        "from sklearn.feature_extraction.text import TfidfVectorizer\n",
        "from sklearn.model_selection import train_test_split\n",
        "from sklearn.pipeline import make_pipeline\n",
        "from sklearn.metrics import accuracy_score\n",
        "\n",
        "X = [\"Buy now and win a prize\", \"Normal email content\", \"Congratulations, you won!\", \"Limited offer just for you\", \"Hello, how are you?\"]\n",
        "y = [1, 0, 1, 1, 0]\n",
        "\n",
        "X_train, X_test, y_train, y_test = train_test_split(X, y, test_size=0.2, random_state=42)\n",
        "\n",
        "model = make_pipeline(TfidfVectorizer(), RandomForestClassifier(n_estimators=100, random_state=42))\n",
        "model.fit(X_train, y_train)\n",
        "\n",
        "y_pred = model.predict(X_test)\n",
        "print(\"Accuracy:\", accuracy_score(y_test, y_pred))\n"
      ]
    },
    {
      "cell_type": "code",
      "source": [],
      "metadata": {
        "id": "Q4DFiZX65MlU"
      },
      "execution_count": null,
      "outputs": []
    }
  ]
}